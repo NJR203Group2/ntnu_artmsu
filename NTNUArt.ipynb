{
  "nbformat": 4,
  "nbformat_minor": 0,
  "metadata": {
    "colab": {
      "provenance": [],
      "authorship_tag": "ABX9TyMbfR8UhgKIzTpXGZht7IAS",
      "include_colab_link": true
    },
    "kernelspec": {
      "name": "python3",
      "display_name": "Python 3"
    },
    "language_info": {
      "name": "python"
    }
  },
  "cells": [
    {
      "cell_type": "markdown",
      "metadata": {
        "id": "view-in-github",
        "colab_type": "text"
      },
      "source": [
        "<a href=\"https://colab.research.google.com/github/NJR203Group2/ntnu_artmsu/blob/main/NTNUArt.ipynb\" target=\"_parent\"><img src=\"https://colab.research.google.com/assets/colab-badge.svg\" alt=\"Open In Colab\"/></a>"
      ]
    },
    {
      "cell_type": "code",
      "source": [
        "import os\n",
        "import re\n",
        "import csv\n",
        "import requests as req\n",
        "from bs4 import BeautifulSoup as bs\n",
        "\n",
        "BASE_URL = \"https://www.artmuse.ntnu.edu.tw/index.php/current_exhibit/\"\n",
        "\n",
        "\"\"\"抓取師大美術館的館名、地址、開放時間、休館時間\"\"\"\n",
        "def museum_info(base_url: str):\n",
        "    r = req.get(base_url, timeout=15)\n",
        "    r.raise_for_status()\n",
        "    html = bs(r.text, \"html.parser\")\n",
        "\n",
        "    # 館名\n",
        "    NTNU = html.find(\"h4\", class_=\"widget-title\")\n",
        "    ntnu_text = NTNU.text.strip() if NTNU else \"師大美術館 NTNU Art Museum\"\n",
        "\n",
        "    #地址\n",
        "    address = html.find_all(\"div\", style=\"line-height: 1.5;\")\n",
        "    address_text = address[1].get_text().strip().split(\"：\", 1)[-1]\n",
        "\n",
        "    # 開放 / 休館時間（兩行開放時間 + 一行休館）\n",
        "    time_blocks = html.find_all(\"p\", style=\"margin-bottom: 4px;\")\n",
        "    open_time_text, off_time_text = None, None\n",
        "    if time_blocks:\n",
        "        # 最後一項是休館\n",
        "        offtime_tag = time_blocks.pop()\n",
        "        off_time_text = offtime_tag.get_text().split(\"：\", 1)[-1]  if offtime_tag else None\n",
        "\n",
        "        opentime_tag = time_blocks\n",
        "        open_list = []\n",
        "        for i in opentime_tag:\n",
        "          opentime_text = i.get_text().strip()\n",
        "          open_list.append(opentime_text)\n",
        "        open_time_text = f\"{open_list[0].split(\"：\", 1)[-1] }, {open_list[1]}\"\n",
        "\n",
        "    return ntnu_text, address_text, open_time_text, off_time_text\n",
        "\n",
        "\"\"\"抓取當期展覽清單（標題、網址、圖片）\"\"\"\n",
        "def get_exhibitions(base_url: str):\n",
        "    r = req.get(base_url, timeout=15)\n",
        "    r.raise_for_status()\n",
        "    html = bs(r.text, \"html.parser\")\n",
        "    figures = html.find_all(\"figure\", class_=\"wp-caption\")\n",
        "\n",
        "    exhibitions = []\n",
        "    for f in figures:\n",
        "        a = f.find(\"a\")\n",
        "        img = f.find(\"img\")\n",
        "        cap = f.find(\"figcaption\")\n",
        "\n",
        "        link = a[\"href\"] if a and a.has_attr(\"href\") else None\n",
        "        image = img[\"src\"] if img and img.has_attr(\"src\") else None\n",
        "        title = cap.get_text(strip=True) if cap else None\n",
        "\n",
        "        exhibitions.append({\"展覽名稱\": title, \"網址\": link, \"圖片\": image})\n",
        "    return exhibitions\n",
        "\n",
        "\"\"\"從展覽內頁抓取展覽日期與地點（統一從 entry clr 文字中用正則擷取）\"\"\"\n",
        "def get_time_and_place(exh_url: str):\n",
        "    r = req.get(exh_url, timeout=20)\n",
        "    r.raise_for_status()\n",
        "    soup = bs(r.text, \"html.parser\")\n",
        "    entry = soup.find(\"div\", class_=\"entry clr\")\n",
        "\n",
        "    # 取純文字並簡單清理\n",
        "    text = entry.get_text(\"\\n\", strip=True)\n",
        "\n",
        "    time_text = None\n",
        "    place_text = None\n",
        "\n",
        "    m_time = re.search(r\"(展覽時間|時間)[:：]\\s*([^\\n。]+)\", text)\n",
        "    time_text = m_time.group(2).strip()\n",
        "\n",
        "    m_place = re.search(r\"(展覽地點|地點)[:：]\\s*([^\\n。]+)\", text)\n",
        "    place_text = m_place.group(2).strip()\n",
        "\n",
        "    return time_text, place_text\n",
        "\n",
        "\n",
        "\n",
        "def main():\n",
        "    # Step 1: 館別資訊\n",
        "    museum_name, address_text, open_time, off_time = museum_info(BASE_URL)\n",
        "\n",
        "    # Step 2: 展覽清單\n",
        "    exhibitions = get_exhibitions(BASE_URL)\n",
        "\n",
        "    # Step 3: 抓取每個展覽的時間與地點\n",
        "    for ex in exhibitions:\n",
        "        if ex.get(\"網址\"):\n",
        "            time_text, place_text = get_time_and_place(ex[\"網址\"])\n",
        "        else:\n",
        "            time_text, place_text = None, None\n",
        "\n",
        "        ex[\"館別\"] = museum_name\n",
        "        ex[\"地址\"] = address_text\n",
        "        ex[\"開放時間\"] = open_time\n",
        "        ex[\"閉館時間\"] = off_time\n",
        "        ex[\"展覽日期\"] = time_text\n",
        "        ex[\"展覽地點\"] = place_text\n",
        "\n",
        "    # Step 4: 輸出 CSV\n",
        "    OUTPUT = \"./output\"\n",
        "    os.makedirs(OUTPUT, exist_ok=True)\n",
        "    CSV_PATH = os.path.join(OUTPUT, \"NTNU_exhibitions.csv\")\n",
        "\n",
        "    fieldnames = [\"館別\", \"地址\", \"開放時間\", \"閉館時間\", \"展覽名稱\", \"網址\", \"圖片\", \"展覽日期\", \"展覽地點\",]\n",
        "    with open(CSV_PATH, \"w\", encoding=\"utf-8-sig\", newline=\"\") as f:\n",
        "        writer = csv.DictWriter(f, fieldnames=fieldnames)\n",
        "        writer.writeheader()\n",
        "        writer.writerows(exhibitions)\n",
        "\n",
        "    print(f\"✅ 已輸出 {CSV_PATH}，共 {len(exhibitions)} 筆展覽。\")\n",
        "\n",
        "\n",
        "if __name__ == \"__main__\":\n",
        "    main()\n"
      ],
      "metadata": {
        "colab": {
          "base_uri": "https://localhost:8080/"
        },
        "id": "PCU7L6kQV5Uy",
        "outputId": "c9049c23-2ae6-40bd-f848-2d91d96c0fd2"
      },
      "execution_count": null,
      "outputs": [
        {
          "output_type": "stream",
          "name": "stdout",
          "text": [
            "✅ 已輸出 ./output/NTNU_exhibitions.csv，共 2 筆展覽。\n"
          ]
        }
      ]
    },
    {
      "cell_type": "code",
      "source": [
        "import os\n",
        "import re\n",
        "import json\n",
        "import requests as req\n",
        "import bs4 as bs\n",
        "\n",
        "url = \"https://www.artmuse.ntnu.edu.tw/index.php/current_exhibit/\"\n",
        "resp = req.get(url)\n",
        "html = bs.BeautifulSoup(resp.text, \"html.parser\")\n",
        "NTNU = html.find(\"h4\", class_=\"widget-title\")\n",
        "address = html.find_all(\"div\", style=\"line-height: 1.5;\")\n",
        "address_text = address[1].get_text().strip().split(\"：\", 1)[-1]\n",
        "print(address_text)\n",
        "ntnu_text = NTNU.text.strip() if NTNU else None\n",
        "print(ntnu_text)\n",
        "\n",
        "time_blocks = html.find_all(\"p\", style=\"margin-bottom: 4px;\")\n",
        "\n",
        "offtime = time_blocks.pop()\n",
        "opentime = time_blocks\n",
        "open_list = []\n",
        "for i in opentime:\n",
        "  opentime_text = i.get_text().strip()\n",
        "  open_list.append(opentime_text)\n",
        "opentime_text = f\"{open_list[0].split(\"：\", 1)[-1] }, {open_list[1]}\"\n",
        "\n",
        "offtime_text = offtime.get_text().split(\"：\", 1)[-1]\n",
        "print(opentime_text)\n",
        "print(offtime_text)\n"
      ],
      "metadata": {
        "colab": {
          "base_uri": "https://localhost:8080/"
        },
        "id": "NFEPtV-ALs-N",
        "outputId": "a1c7dc9f-ba81-4dac-b5b5-41cba3f55e2e"
      },
      "execution_count": null,
      "outputs": [
        {
          "output_type": "stream",
          "name": "stdout",
          "text": [
            "106010 臺北市大安區和平東路一段129號\n",
            "師大美術館 NTNU Art Museum\n",
            "週二至週五 09:30-17:30, 週六、週日 10:00-17:30\n",
            "週一及國定假日\n"
          ]
        }
      ]
    },
    {
      "cell_type": "code",
      "execution_count": null,
      "metadata": {
        "colab": {
          "base_uri": "https://localhost:8080/"
        },
        "id": "e8CkfHF7frqD",
        "outputId": "c4333cbe-eb2a-4097-9f13-79b40df76816"
      },
      "outputs": [
        {
          "output_type": "stream",
          "name": "stdout",
          "text": [
            "標題：心象繪畫──高行健\n",
            "網址：https://www.artmuse.ntnu.edu.tw/index.php/2025visioninterieure/\n",
            "圖片：https://www.artmuse.ntnu.edu.tw/wp-content/uploads/elementor/thumbs/1280x800-scaled-rarluzfsf50hegxxzgasu9fetxsh89h2swro436zb4.png\n",
            "------------------------------------------------------------\n",
            "標題：時光逆旅：文物修護的美學與實踐\n",
            "網址：https://www.artmuse.ntnu.edu.tw/index.php/elementor-10351/\n",
            "圖片：https://www.artmuse.ntnu.edu.tw/wp-content/uploads/elementor/thumbs/EDM_A款_20250627-r85qfot4tmlyctuutjwsck7f94yzrei6vb16lon680.jpg\n",
            "------------------------------------------------------------\n"
          ]
        }
      ],
      "source": [
        "import os\n",
        "import re\n",
        "import json\n",
        "import requests as req\n",
        "import bs4 as bs\n",
        "\n",
        "url = \"https://www.artmuse.ntnu.edu.tw/index.php/current_exhibit/\"\n",
        "resp = req.get(url)\n",
        "html = bs.BeautifulSoup(resp.text, \"html.parser\")\n",
        "figures = html.find_all(\"figure\", class_=\"wp-caption\")\n",
        "\n",
        "exhibitions = []\n",
        "\n",
        "for f in figures:\n",
        "  link = f.find(\"a\")[\"href\"] if f.find(\"a\") else None\n",
        "  img = f.find(\"img\")[\"src\"] if f.find(\"img\") else None\n",
        "  title = f.find(\"figcaption\").text.strip() if f.find(\"figcaption\") else None\n",
        "\n",
        "  exhibitions.append({\n",
        "        \"title\": title,\n",
        "        \"url\": link,\n",
        "        \"image\": img\n",
        "    })\n",
        "\n",
        "# 印出結果\n",
        "for e in exhibitions:\n",
        "    print(f\"標題：{e['title']}\")\n",
        "    print(f\"網址：{e['url']}\")\n",
        "    print(f\"圖片：{e['image']}\")\n",
        "    print(\"-\" * 60)\n"
      ]
    },
    {
      "cell_type": "code",
      "source": [
        "import os\n",
        "import json\n",
        "import requests as req\n",
        "import bs4 as bs\n",
        "\n",
        "url = \"https://www.artmuse.ntnu.edu.tw/index.php/elementor-10351/\"\n",
        "resp = req.get(url)\n",
        "html = bs.BeautifulSoup(resp.text, \"html.parser\")\n",
        "entry = html.find(\"div\", class_=\"entry clr\")\n",
        "text = entry.get_text(\"\\n\", strip=True)\n",
        "m_time = re.search(r\"(展覽時間|時間)[:：]\\s*([^\\n。]+)\", text)\n",
        "time_text = m_time.group(2).strip()\n",
        "print(m_time)\n",
        "print(time_text)"
      ],
      "metadata": {
        "colab": {
          "base_uri": "https://localhost:8080/"
        },
        "collapsed": true,
        "id": "q2VkD7pbm3ZQ",
        "outputId": "de5d6712-bdc0-4cb6-fc17-1b82ba274098"
      },
      "execution_count": null,
      "outputs": [
        {
          "output_type": "stream",
          "name": "stdout",
          "text": [
            "<re.Match object; span=(232, 249), match='展覽時間：2024/7/1（二）起'>\n",
            "2024/7/1（二）起\n"
          ]
        }
      ]
    },
    {
      "cell_type": "code",
      "source": [
        "import os\n",
        "import json\n",
        "import requests as req\n",
        "import bs4 as bs\n",
        "url = \"https://www.artmuse.ntnu.edu.tw/index.php/2025visioninterieure/\"\n",
        "resp = req.get(url)\n",
        "html = bs.BeautifulSoup(resp.text, \"html.parser\")\n",
        "figures = html.find_all(\"div\", class_=\"entry clr\")\n",
        "print(figures)"
      ],
      "metadata": {
        "colab": {
          "base_uri": "https://localhost:8080/"
        },
        "collapsed": true,
        "id": "PJNT35rIrOY1",
        "outputId": "2e206d40-7f8a-428d-dadd-7841a814eb09"
      },
      "execution_count": null,
      "outputs": [
        {
          "output_type": "stream",
          "name": "stdout",
          "text": [
            "[<div class=\"entry clr\" itemprop=\"text\">\n",
            "<p></p>\n",
            "<figure class=\"wp-block-image size-full\"><img alt=\"\" class=\"wp-image-11103\" decoding=\"async\" fetchpriority=\"high\" height=\"1600\" sizes=\"(max-width: 2560px) 100vw, 2560px\" src=\"https://www.artmuse.ntnu.edu.tw/wp-content/uploads/2025/08/官網當期展頁＿高行健1280x800-scaled.png\" srcset=\"https://www.artmuse.ntnu.edu.tw/wp-content/uploads/2025/08/官網當期展頁＿高行健1280x800-scaled.png 2560w, https://www.artmuse.ntnu.edu.tw/wp-content/uploads/2025/08/官網當期展頁＿高行健1280x800-300x188.png 300w, https://www.artmuse.ntnu.edu.tw/wp-content/uploads/2025/08/官網當期展頁＿高行健1280x800-1024x640.png 1024w, https://www.artmuse.ntnu.edu.tw/wp-content/uploads/2025/08/官網當期展頁＿高行健1280x800-768x480.png 768w, https://www.artmuse.ntnu.edu.tw/wp-content/uploads/2025/08/官網當期展頁＿高行健1280x800-1536x960.png 1536w, https://www.artmuse.ntnu.edu.tw/wp-content/uploads/2025/08/官網當期展頁＿高行健1280x800-2048x1280.png 2048w\" width=\"2560\"/></figure>\n",
            "<div aria-hidden=\"true\" class=\"wp-block-spacer\" style=\"height:67px\"></div>\n",
            "<h2 class=\"wp-block-heading\">心象繪畫──高行健<br/><strong>Vision Intérieure: The Art of Gao Xingjian</strong></h2>\n",
            "<p>時間：2025/09/23 Tue.－2025/11/23 Sun.<br/>地點：師大美術館展廳一、二 (臺北市大安區和平東路一段129號 和平校區Ⅱ)<br/>主辦：國立臺灣師範大學 美術館、高行健資料中心<br/>協辦：臺法文化教育基金會</p>\n",
            "<div aria-hidden=\"true\" class=\"wp-block-spacer\" style=\"height:56px\"></div>\n",
            "<p><strong>▌  展覽簡介</strong></p>\n",
            "<div aria-hidden=\"true\" class=\"wp-block-spacer\" style=\"height:41px\"></div>\n",
            "<p class=\"has-small-font-size\" style=\"font-style:italic;font-weight:400\">你選擇的是在這社會和時代的限制下盡可能大的自由，<br/>你選擇的是不理會市場行情的自由，<br/>你選擇的是不追隨時髦的藝術觀念的自由，<br/>你選擇的是做你自己最想做的藝術的自由。──高行健《另一種美學》</p>\n",
            "<div aria-hidden=\"true\" class=\"wp-block-spacer\" style=\"height:36px\"></div>\n",
            "<p>走近高行健的畫作，首先感受到的往往不是具體的圖像，而是一種氤氳飄忽、如夢似幻的氣息。墨色濃淡交錯，線條奔放飛白或凝重如思，彷彿觸及內在尚未成形的情緒記憶。這些畫既不屬於傳統山水人物，也非西方抽象畫的延伸，而是他所稱的「心象繪畫」——在現實與抽象之間捕捉內在感受的流動。畫面中偶爾浮現極簡人影，或凝視遠方，或行走於未知地景；亦見日、月、屋宇等朦朧輪廓，與筆墨流動交織成他筆下「內在風景」的視覺語彙。</p>\n",
            "<p>不同於他在文學與戲劇中對荒謬現實與意識形態的叩問，高行健的繪畫是一種完全向內的沉潛。不為對外發聲，也不召喚共鳴，而是在灰階墨痕中展開個體精神的獨行旅程，一場藝術家與自身靈魂深處的靜默對話。</p>\n",
            "<p>本展覽呈現高行健歷年捐贈給臺師大的畫作，創作時間橫跨1989年至今，展現其始終如一的美學追求——從個人內在出發，跨越現實與想像的邊界，構築一處由自由、詩性與孤絕交織而成的藝術空間。他曾言，繪畫應「回到人的視覺感受和內心，回到精神」。觀者也能在墨與白的節奏與流動之中，在凝視中對照自身，體會畫作所呈現的這層精神維度。</p>\n",
            "<p><strong>高行健</strong></p>\n",
            "<p>2000年諾貝爾文學獎得主高行健，是國際著名的全方位藝術家，集小說家、戲劇家、詩人、戲劇和電影導演、畫家和理論家於一身。他的小說和戲劇關注人類的生存困境，瑞典學院在諾貝爾獎授獎詞中以「普世的價值、刻骨銘心的洞察力和語言的豐富機智，為中文小說藝術與戲劇開闢嶄新道路」加以表彰。高行健的長篇小說《靈山》和《一個人的聖經》轟動國際文壇，被評為二十世紀末中國文學的里程碑；戲劇作品自1980年代便受到歐洲劇壇的關注，《彼岸》、《逃亡》、《車站》等十八部劇作，在歐、亞、美洲和澳洲等地上演不輟。他的水墨畫作獨具一格，在歐亞和北美已有上百次展覽，出版畫冊五十餘本。</p>\n",
            "<p>高行健獲頒各大國際性藝文成就獎項，主要包括1992年法國藝術與文學騎士勛章、2000年諾貝爾文學獎、義大利費羅尼亞文學獎、2002年法國榮譽騎士勛章、美國終身成就學院金盤獎、2006年美國紐約公共圖書館雄獅獎、2008年義大利米蘭藝術節特別致敬獎、2010年盧森堡歐洲貢獻金獎、2012年法國文藝復興金質獎章、2019年羅馬獎、2023年法國榮譽軍團司令勳章。</p>\n",
            "<p>高行健自1987年起定居巴黎，現為國立臺灣師範大學講座教授，並獲頒榮譽博士。</p>\n",
            "<div aria-hidden=\"true\" class=\"wp-block-spacer\" style=\"height:55px\"></div>\n",
            "<p><strong>▌  </strong><strong>跨國與談</strong>．<strong>線上直播</strong></p>\n",
            "<p><strong>跨界的創作</strong><br/><strong>A Creation Beyond Boundaries</strong></p>\n",
            "<p>主講人：高行健（2000年諾貝爾文學獎得主、臺師大講座教授）<br/>時間：2025年11月13日（四）17:30－19:00<br/>報名連結：<a href=\"https://forms.gle/uGRs6uQtQGUJByu97\">https://forms.gle/uGRs6uQtQGUJByu97</a><br/>地點：師大美術館 (臺北市大安區和平東路一段129號)<br/>直播連結：本場講座全程以中文進行，直播連結將在活動3天前於網站公告<br/>國立臺灣師範大學頂尖學術講座：ntnutop@deps.ntnu.edu.tw 02-7749-1752</p>\n",
            "<p>本場演講中，高行健教授將分享自己如何在不同藝術領域之間自由跨越，展現創作的精神與內涵。他將談及如何在現實限制中維持創作的自由，並以個人的感受與精神追求開拓新的表現方式，同時藉由自身經歷啟發我們重新思考藝術與生命的關聯，以及創作所承載的深層價值。</p>\n",
            "<div aria-hidden=\"true\" class=\"wp-block-spacer\" style=\"height:50px\"></div>\n",
            "<p><strong>▌  預約導覽</strong><br/>自10月1日起，團體人數滿 10 人，本館受理預約日前一週來電，02-7749-7793，楊小姐</p>\n",
            "<div aria-hidden=\"true\" class=\"wp-block-spacer\" style=\"height:50px\"></div>\n",
            "</div>]\n"
          ]
        }
      ]
    },
    {
      "cell_type": "code",
      "source": [
        "def get_time_and_place(exh_url):\n",
        "    \"\"\"從展覽內頁抓取時間與地點\"\"\"\n",
        "    try:\n",
        "        r = req.get(exh_url)\n",
        "        soup = bs(r.text, \"html.parser\")\n",
        "        entry = soup.find(\"div\", class_=\"entry clr\")\n",
        "        if not entry:\n",
        "            return None, None\n",
        "\n",
        "        text = entry.get_text(\"\\n\", strip=True)\n",
        "\n",
        "        # 抓出展覽時間\n",
        "        time_match = re.search(r\"(展覽時間|時間)[:：]\\s*([^\\n。；;]+)\", text)\n",
        "        time_text = time_match.group(2).strip() if time_match else None\n",
        "\n",
        "        # 抓出展覽地點\n",
        "        place_match = re.search(r\"(展覽地點|地點)[:：]\\s*([^\\n。；;]+)\", text)\n",
        "        place_text = place_match.group(2).strip() if place_match else None\n",
        "\n",
        "        return time_text, place_text\n",
        "\n",
        "    except Exception as e:\n",
        "        return None, None"
      ],
      "metadata": {
        "id": "ZIqQyBAf2LXI"
      },
      "execution_count": null,
      "outputs": []
    },
    {
      "cell_type": "code",
      "source": [],
      "metadata": {
        "id": "FB2w1yILjqga"
      },
      "execution_count": null,
      "outputs": []
    }
  ]
}